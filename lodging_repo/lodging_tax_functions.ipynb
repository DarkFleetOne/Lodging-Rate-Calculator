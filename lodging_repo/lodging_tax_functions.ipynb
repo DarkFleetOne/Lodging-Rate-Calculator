{
 "cells": [
  {
   "cell_type": "code",
   "execution_count": 86,
   "metadata": {
    "collapsed": true
   },
   "outputs": [],
   "source": [
    "import locale"
   ]
  },
  {
   "cell_type": "code",
   "execution_count": 87,
   "metadata": {
    "scrolled": true
   },
   "outputs": [
    {
     "data": {
      "text/plain": [
       "'English_United States.1252'"
      ]
     },
     "execution_count": 87,
     "metadata": {},
     "output_type": "execute_result"
    }
   ],
   "source": [
    "locale.setlocale(locale.LC_ALL, '')"
   ]
  },
  {
   "cell_type": "code",
   "execution_count": 88,
   "metadata": {
    "collapsed": true
   },
   "outputs": [],
   "source": [
    "SALES_TAX = 1.1525\n",
    "LODGING_TAX = 2.50\n",
    "# RACK_RATE = 101.95\n",
    "RACK_TOTAL = 138.44\n",
    "RACK_RATE = remove_tax(RACK_TOTAL)\n",
    "AAA_DISCOUNT = .10\n",
    "MANAGERS_DISCOUNT = .15\n",
    "EXPEDIA_DISCOUNT = .10\n",
    "EXPEDIA_COMMISSION = .17\n",
    "ROOM_TOTALS_LIST = [x for x in range(100, 200, 5)]"
   ]
  },
  {
   "cell_type": "code",
   "execution_count": 89,
   "metadata": {
    "collapsed": true
   },
   "outputs": [],
   "source": [
    "def add_tax(rate):\n",
    "    return (rate * SALES_TAX) + LODGING_TAX"
   ]
  },
  {
   "cell_type": "code",
   "execution_count": 90,
   "metadata": {
    "collapsed": true
   },
   "outputs": [],
   "source": [
    "def remove_tax(total):\n",
    "    return (total - LODGING_TAX) / SALES_TAX"
   ]
  },
  {
   "cell_type": "code",
   "execution_count": 91,
   "metadata": {
    "collapsed": true
   },
   "outputs": [],
   "source": [
    "def make_currency_pretty(number):\n",
    "    acc = round(number, 2)\n",
    "    return locale.currency(acc, grouping=True)"
   ]
  },
  {
   "cell_type": "code",
   "execution_count": 92,
   "metadata": {
    "collapsed": true
   },
   "outputs": [],
   "source": [
    "def add_taxes(lor):\n",
    "    acc = []\n",
    "    for rate in lor:\n",
    "        acc.append(add_tax(rate))\n",
    "    return acc"
   ]
  },
  {
   "cell_type": "code",
   "execution_count": 93,
   "metadata": {
    "collapsed": true
   },
   "outputs": [],
   "source": [
    "def remove_taxes(lot):\n",
    "    acc = []\n",
    "    for total in lot:\n",
    "        acc.append(remove_tax(total))\n",
    "    return acc"
   ]
  },
  {
   "cell_type": "code",
   "execution_count": 94,
   "metadata": {
    "collapsed": true
   },
   "outputs": [],
   "source": [
    "def make_currencies_pretty(lor):\n",
    "    acc = []\n",
    "    for rate in lor:\n",
    "        acc.append(make_currency_pretty(rate))\n",
    "    return acc"
   ]
  },
  {
   "cell_type": "code",
   "execution_count": 95,
   "metadata": {
    "collapsed": true
   },
   "outputs": [],
   "source": [
    "def apply_discount(rate, discount):\n",
    "    return rate - (rate * discount)"
   ]
  },
  {
   "cell_type": "code",
   "execution_count": 1,
   "metadata": {
    "collapsed": true
   },
   "outputs": [],
   "source": [
    "def remove_discount(rate, discount):\n",
    "    return rate + (rate / discount)"
   ]
  },
  {
   "cell_type": "code",
   "execution_count": 96,
   "metadata": {
    "collapsed": true
   },
   "outputs": [],
   "source": [
    "def expedia_price():\n",
    "    acc = apply_discount(RACK_RATE, EXPEDIA_DISCOUNT)\n",
    "    return apply_discount(acc, EXPEDIA_COMMISSION)"
   ]
  },
  {
   "cell_type": "code",
   "execution_count": 97,
   "metadata": {
    "collapsed": true
   },
   "outputs": [],
   "source": [
    "pretty_rates = make_currencies_pretty(remove_taxes(ROOM_TOTALS_LIST))\n",
    "pretty_totals = make_currencies_pretty(ROOM_TOTALS_LIST)"
   ]
  },
  {
   "cell_type": "markdown",
   "metadata": {
    "variables": {
     "pretty_rates[0]": "$84.60",
     "pretty_rates[1]": "$88.94",
     "pretty_rates[2]": "$93.28",
     "pretty_rates[3]": "$97.61",
     "pretty_rates[4]": "$101.95",
     "pretty_rates[5]": "$106.29",
     "pretty_totals[0]": "$100.00",
     "pretty_totals[1]": "$105.00",
     "pretty_totals[2]": "$110.00",
     "pretty_totals[3]": "$115.00",
     "pretty_totals[4]": "$120.00",
     "pretty_totals[5]": "$125.00"
    }
   },
   "source": [
    "# Manager's Specials\n",
    "| Rate Code  | Rate                 | Total                   |\n",
    "|------------|----------------------|-------------------------|\n",
    "| LBMS       | {{pretty_rates[0]}}  | {{pretty_totals[0]}}    |\n",
    "| LBMS       | {{pretty_rates[1]}}  | {{pretty_totals[1]}}    |\n",
    "| LBMS       | {{pretty_rates[2]}}  | {{pretty_totals[2]}}    |\n",
    "| LBMS       | {{pretty_rates[3]}}  | {{pretty_totals[3]}}    | \n",
    "| LBMS       | {{pretty_rates[4]}}  | {{pretty_totals[4]}}    |\n",
    "| LBMS       | {{pretty_rates[5]}}  | {{pretty_totals[5]}}    |"
   ]
  },
  {
   "cell_type": "code",
   "execution_count": 98,
   "metadata": {
    "collapsed": true
   },
   "outputs": [],
   "source": [
    "room_rates_list = [RACK_RATE, apply_discount(RACK_RATE, AAA_DISCOUNT), apply_discount(RACK_RATE, MANAGERS_DISCOUNT), expedia_price()]\n",
    "room_totals_list = add_taxes(room_rates_list)\n",
    "pretty_room_rates = make_currencies_pretty(room_rates_list)\n",
    "pretty_room_totals = make_currencies_pretty(room_totals_list)"
   ]
  },
  {
   "cell_type": "markdown",
   "metadata": {
    "variables": {
     "pretty_room_rates[0]": "$117.95",
     "pretty_room_rates[1]": "$106.16",
     "pretty_room_rates[2]": "$100.26",
     "pretty_room_rates[3]": "$88.11",
     "pretty_room_totals[0]": "$138.44",
     "pretty_room_totals[1]": "$124.85",
     "pretty_room_totals[2]": "$118.05",
     "pretty_room_totals[3]": "$104.05"
    }
   },
   "source": [
    "# Rate Details\n",
    "| Rate Code | Rate                     | Total                     |\n",
    "|-----------|--------------------------|---------------------------|\n",
    "| RACK      | {{pretty_room_rates[0]}} | {{pretty_room_totals[0]}} |\n",
    "| S3A       | {{pretty_room_rates[1]}} | {{pretty_room_totals[1]}} |\n",
    "| LBWS      | {{pretty_room_rates[2]}} | {{pretty_room_totals[2]}} |\n",
    "| SOE       | {{pretty_room_rates[3]}} | {{pretty_room_totals[3]}} |"
   ]
  },
  {
   "cell_type": "code",
   "execution_count": null,
   "metadata": {
    "collapsed": true
   },
   "outputs": [],
   "source": []
  }
 ],
 "metadata": {
  "kernelspec": {
   "display_name": "Python 3",
   "language": "python",
   "name": "python3"
  },
  "language_info": {
   "codemirror_mode": {
    "name": "ipython",
    "version": 3
   },
   "file_extension": ".py",
   "mimetype": "text/x-python",
   "name": "python",
   "nbconvert_exporter": "python",
   "pygments_lexer": "ipython3",
   "version": "3.6.2"
  }
 },
 "nbformat": 4,
 "nbformat_minor": 2
}
